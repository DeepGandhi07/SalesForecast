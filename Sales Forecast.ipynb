{
 "cells": [
  {
   "cell_type": "markdown",
   "id": "bebc4943",
   "metadata": {},
   "source": [
    "# Sales Forecast with use of Linear Regression"
   ]
  },
  {
   "cell_type": "markdown",
   "id": "dd239762",
   "metadata": {},
   "source": [
    "Import necessary things which are used in Project"
   ]
  },
  {
   "cell_type": "code",
   "execution_count": 1,
   "id": "54c9a823",
   "metadata": {},
   "outputs": [],
   "source": [
    "import pandas as pd\n",
    "import numpy as np\n",
    "import matplotlib.pyplot as plt\n",
    "from xgboost import XGBRegressor"
   ]
  },
  {
   "cell_type": "code",
   "execution_count": 2,
   "id": "f53c1511",
   "metadata": {},
   "outputs": [],
   "source": [
    "from sklearn.ensemble import RandomForestRegressor \n",
    "from sklearn.linear_model import LinearRegression\n",
    "from sklearn.preprocessing import MinMaxScaler\n",
    "from sklearn.metrics import mean_absolute_error,mean_squared_error,r2_score\n",
    "from tensorflow.keras.models import Sequential\n",
    "from tensorflow.keras.layers import Dense,LSTM\n",
    "from tensorflow.keras.callbacks import EarlyStopping,ModelCheckpoint"
   ]
  },
  {
   "cell_type": "markdown",
   "id": "46f1cb9d",
   "metadata": {},
   "source": [
    "Read Dataset file with use of Pandas"
   ]
  },
  {
   "cell_type": "code",
   "execution_count": 3,
   "id": "e957a605",
   "metadata": {},
   "outputs": [],
   "source": [
    "store_sales = pd.read_csv('train.csv')"
   ]
  },
  {
   "cell_type": "code",
   "execution_count": 4,
   "id": "2d177588",
   "metadata": {},
   "outputs": [
    {
     "data": {
      "text/html": [
       "<div>\n",
       "<style scoped>\n",
       "    .dataframe tbody tr th:only-of-type {\n",
       "        vertical-align: middle;\n",
       "    }\n",
       "\n",
       "    .dataframe tbody tr th {\n",
       "        vertical-align: top;\n",
       "    }\n",
       "\n",
       "    .dataframe thead th {\n",
       "        text-align: right;\n",
       "    }\n",
       "</style>\n",
       "<table border=\"1\" class=\"dataframe\">\n",
       "  <thead>\n",
       "    <tr style=\"text-align: right;\">\n",
       "      <th></th>\n",
       "      <th>date</th>\n",
       "      <th>store</th>\n",
       "      <th>item</th>\n",
       "      <th>sales</th>\n",
       "    </tr>\n",
       "  </thead>\n",
       "  <tbody>\n",
       "    <tr>\n",
       "      <th>0</th>\n",
       "      <td>2013-01-01</td>\n",
       "      <td>1</td>\n",
       "      <td>1</td>\n",
       "      <td>13</td>\n",
       "    </tr>\n",
       "    <tr>\n",
       "      <th>1</th>\n",
       "      <td>2013-01-02</td>\n",
       "      <td>1</td>\n",
       "      <td>1</td>\n",
       "      <td>11</td>\n",
       "    </tr>\n",
       "    <tr>\n",
       "      <th>2</th>\n",
       "      <td>2013-01-03</td>\n",
       "      <td>1</td>\n",
       "      <td>1</td>\n",
       "      <td>14</td>\n",
       "    </tr>\n",
       "    <tr>\n",
       "      <th>3</th>\n",
       "      <td>2013-01-04</td>\n",
       "      <td>1</td>\n",
       "      <td>1</td>\n",
       "      <td>13</td>\n",
       "    </tr>\n",
       "    <tr>\n",
       "      <th>4</th>\n",
       "      <td>2013-01-05</td>\n",
       "      <td>1</td>\n",
       "      <td>1</td>\n",
       "      <td>10</td>\n",
       "    </tr>\n",
       "    <tr>\n",
       "      <th>5</th>\n",
       "      <td>2013-01-06</td>\n",
       "      <td>1</td>\n",
       "      <td>1</td>\n",
       "      <td>12</td>\n",
       "    </tr>\n",
       "    <tr>\n",
       "      <th>6</th>\n",
       "      <td>2013-01-07</td>\n",
       "      <td>1</td>\n",
       "      <td>1</td>\n",
       "      <td>10</td>\n",
       "    </tr>\n",
       "    <tr>\n",
       "      <th>7</th>\n",
       "      <td>2013-01-08</td>\n",
       "      <td>1</td>\n",
       "      <td>1</td>\n",
       "      <td>9</td>\n",
       "    </tr>\n",
       "    <tr>\n",
       "      <th>8</th>\n",
       "      <td>2013-01-09</td>\n",
       "      <td>1</td>\n",
       "      <td>1</td>\n",
       "      <td>12</td>\n",
       "    </tr>\n",
       "    <tr>\n",
       "      <th>9</th>\n",
       "      <td>2013-01-10</td>\n",
       "      <td>1</td>\n",
       "      <td>1</td>\n",
       "      <td>9</td>\n",
       "    </tr>\n",
       "  </tbody>\n",
       "</table>\n",
       "</div>"
      ],
      "text/plain": [
       "         date  store  item  sales\n",
       "0  2013-01-01      1     1     13\n",
       "1  2013-01-02      1     1     11\n",
       "2  2013-01-03      1     1     14\n",
       "3  2013-01-04      1     1     13\n",
       "4  2013-01-05      1     1     10\n",
       "5  2013-01-06      1     1     12\n",
       "6  2013-01-07      1     1     10\n",
       "7  2013-01-08      1     1      9\n",
       "8  2013-01-09      1     1     12\n",
       "9  2013-01-10      1     1      9"
      ]
     },
     "execution_count": 4,
     "metadata": {},
     "output_type": "execute_result"
    }
   ],
   "source": [
    "store_sales.head(10)"
   ]
  },
  {
   "cell_type": "markdown",
   "id": "119d9d49",
   "metadata": {},
   "source": [
    "Cheak for null values in Dataset"
   ]
  },
  {
   "cell_type": "code",
   "execution_count": 5,
   "id": "4282c67a",
   "metadata": {},
   "outputs": [
    {
     "name": "stdout",
     "output_type": "stream",
     "text": [
      "<class 'pandas.core.frame.DataFrame'>\n",
      "RangeIndex: 913000 entries, 0 to 912999\n",
      "Data columns (total 4 columns):\n",
      " #   Column  Non-Null Count   Dtype \n",
      "---  ------  --------------   ----- \n",
      " 0   date    913000 non-null  object\n",
      " 1   store   913000 non-null  int64 \n",
      " 2   item    913000 non-null  int64 \n",
      " 3   sales   913000 non-null  int64 \n",
      "dtypes: int64(3), object(1)\n",
      "memory usage: 27.9+ MB\n"
     ]
    }
   ],
   "source": [
    "store_sales.info()"
   ]
  },
  {
   "cell_type": "markdown",
   "id": "5145f61d",
   "metadata": {},
   "source": [
    "Dropping store and Item columns"
   ]
  },
  {
   "cell_type": "code",
   "execution_count": 6,
   "id": "d1b6f92c",
   "metadata": {},
   "outputs": [],
   "source": [
    "store_sales = store_sales.drop(['store','item'],axis=1)"
   ]
  },
  {
   "cell_type": "code",
   "execution_count": 7,
   "id": "a94084e2",
   "metadata": {},
   "outputs": [
    {
     "name": "stdout",
     "output_type": "stream",
     "text": [
      "<class 'pandas.core.frame.DataFrame'>\n",
      "RangeIndex: 913000 entries, 0 to 912999\n",
      "Data columns (total 2 columns):\n",
      " #   Column  Non-Null Count   Dtype \n",
      "---  ------  --------------   ----- \n",
      " 0   date    913000 non-null  object\n",
      " 1   sales   913000 non-null  int64 \n",
      "dtypes: int64(1), object(1)\n",
      "memory usage: 13.9+ MB\n"
     ]
    }
   ],
   "source": [
    "store_sales.info()"
   ]
  },
  {
   "cell_type": "markdown",
   "id": "fdc28afa",
   "metadata": {},
   "source": [
    "Converting date from object datatype to dateTime datatype"
   ]
  },
  {
   "cell_type": "code",
   "execution_count": 8,
   "id": "e8e981ed",
   "metadata": {},
   "outputs": [],
   "source": [
    "store_sales['date']= pd.to_datetime(store_sales['date'])"
   ]
  },
  {
   "cell_type": "code",
   "execution_count": 9,
   "id": "e0d9f62a",
   "metadata": {},
   "outputs": [
    {
     "name": "stdout",
     "output_type": "stream",
     "text": [
      "<class 'pandas.core.frame.DataFrame'>\n",
      "RangeIndex: 913000 entries, 0 to 912999\n",
      "Data columns (total 2 columns):\n",
      " #   Column  Non-Null Count   Dtype         \n",
      "---  ------  --------------   -----         \n",
      " 0   date    913000 non-null  datetime64[ns]\n",
      " 1   sales   913000 non-null  int64         \n",
      "dtypes: datetime64[ns](1), int64(1)\n",
      "memory usage: 13.9 MB\n"
     ]
    }
   ],
   "source": [
    "store_sales.info()"
   ]
  },
  {
   "cell_type": "markdown",
   "id": "f721f078",
   "metadata": {},
   "source": [
    "converting date and to a Month period and then sum the number of items in each Month"
   ]
  },
  {
   "cell_type": "code",
   "execution_count": 10,
   "id": "9c967599",
   "metadata": {},
   "outputs": [],
   "source": [
    "store_sales['date'] = pd.to_datetime(store_sales['date'])\n",
    "store_sales['month'] = store_sales['date'].dt.to_period('M')\n",
    "monthly_sales = store_sales.groupby('month').sum().reset_index()"
   ]
  },
  {
   "cell_type": "markdown",
   "id": "6f873db1",
   "metadata": {},
   "source": [
    "convert the resulting Date column to timestamp datatype"
   ]
  },
  {
   "cell_type": "code",
   "execution_count": 11,
   "id": "4def5767",
   "metadata": {},
   "outputs": [],
   "source": [
    "monthly_sales['month'] = monthly_sales['month'].dt.to_timestamp()"
   ]
  },
  {
   "cell_type": "code",
   "execution_count": 12,
   "id": "7096376b",
   "metadata": {},
   "outputs": [
    {
     "data": {
      "text/html": [
       "<div>\n",
       "<style scoped>\n",
       "    .dataframe tbody tr th:only-of-type {\n",
       "        vertical-align: middle;\n",
       "    }\n",
       "\n",
       "    .dataframe tbody tr th {\n",
       "        vertical-align: top;\n",
       "    }\n",
       "\n",
       "    .dataframe thead th {\n",
       "        text-align: right;\n",
       "    }\n",
       "</style>\n",
       "<table border=\"1\" class=\"dataframe\">\n",
       "  <thead>\n",
       "    <tr style=\"text-align: right;\">\n",
       "      <th></th>\n",
       "      <th>month</th>\n",
       "      <th>sales</th>\n",
       "    </tr>\n",
       "  </thead>\n",
       "  <tbody>\n",
       "    <tr>\n",
       "      <th>0</th>\n",
       "      <td>2013-01-01</td>\n",
       "      <td>454904</td>\n",
       "    </tr>\n",
       "    <tr>\n",
       "      <th>1</th>\n",
       "      <td>2013-02-01</td>\n",
       "      <td>459417</td>\n",
       "    </tr>\n",
       "    <tr>\n",
       "      <th>2</th>\n",
       "      <td>2013-03-01</td>\n",
       "      <td>617382</td>\n",
       "    </tr>\n",
       "    <tr>\n",
       "      <th>3</th>\n",
       "      <td>2013-04-01</td>\n",
       "      <td>682274</td>\n",
       "    </tr>\n",
       "    <tr>\n",
       "      <th>4</th>\n",
       "      <td>2013-05-01</td>\n",
       "      <td>763242</td>\n",
       "    </tr>\n",
       "    <tr>\n",
       "      <th>5</th>\n",
       "      <td>2013-06-01</td>\n",
       "      <td>795597</td>\n",
       "    </tr>\n",
       "    <tr>\n",
       "      <th>6</th>\n",
       "      <td>2013-07-01</td>\n",
       "      <td>855922</td>\n",
       "    </tr>\n",
       "    <tr>\n",
       "      <th>7</th>\n",
       "      <td>2013-08-01</td>\n",
       "      <td>766761</td>\n",
       "    </tr>\n",
       "    <tr>\n",
       "      <th>8</th>\n",
       "      <td>2013-09-01</td>\n",
       "      <td>689907</td>\n",
       "    </tr>\n",
       "    <tr>\n",
       "      <th>9</th>\n",
       "      <td>2013-10-01</td>\n",
       "      <td>656587</td>\n",
       "    </tr>\n",
       "  </tbody>\n",
       "</table>\n",
       "</div>"
      ],
      "text/plain": [
       "       month   sales\n",
       "0 2013-01-01  454904\n",
       "1 2013-02-01  459417\n",
       "2 2013-03-01  617382\n",
       "3 2013-04-01  682274\n",
       "4 2013-05-01  763242\n",
       "5 2013-06-01  795597\n",
       "6 2013-07-01  855922\n",
       "7 2013-08-01  766761\n",
       "8 2013-09-01  689907\n",
       "9 2013-10-01  656587"
      ]
     },
     "execution_count": 12,
     "metadata": {},
     "output_type": "execute_result"
    }
   ],
   "source": [
    "monthly_sales.head(10)"
   ]
  },
  {
   "cell_type": "markdown",
   "id": "4f406749",
   "metadata": {},
   "source": [
    "Visualization of Monthly sale"
   ]
  },
  {
   "cell_type": "code",
   "execution_count": 13,
   "id": "f10fe3dd",
   "metadata": {},
   "outputs": [
    {
     "data": {
      "image/png": "[encoded data removed]",
      "text/plain": [
       "<Figure size 1500x500 with 1 Axes>"
      ]
     },
     "metadata": {},
     "output_type": "display_data"
    }
   ],
   "source": [
    "plt.figure(figsize=(15,5))\n",
    "plt.plot(monthly_sales['month'],monthly_sales['sales'])\n",
    "plt.xlabel('Date')\n",
    "plt.ylabel('Sales')\n",
    "plt.title('Monthly Customers Sales')\n",
    "plt.show()"
   ]
  },
  {
   "cell_type": "markdown",
   "id": "590cdd96",
   "metadata": {},
   "source": [
    "Call the difference of the sales columns to make the sales data Stationary"
   ]
  },
  {
   "cell_type": "code",
   "execution_count": 14,
   "id": "8400b20d",
   "metadata": {},
   "outputs": [],
   "source": [
    "monthly_sales['sales_diff'] = monthly_sales['sales'].diff()"
   ]
  },
  {
   "cell_type": "code",
   "execution_count": 15,
   "id": "46016450",
   "metadata": {},
   "outputs": [
    {
     "data": {
      "text/html": [
       "<div>\n",
       "<style scoped>\n",
       "    .dataframe tbody tr th:only-of-type {\n",
       "        vertical-align: middle;\n",
       "    }\n",
       "\n",
       "    .dataframe tbody tr th {\n",
       "        vertical-align: top;\n",
       "    }\n",
       "\n",
       "    .dataframe thead th {\n",
       "        text-align: right;\n",
       "    }\n",
       "</style>\n",
       "<table border=\"1\" class=\"dataframe\">\n",
       "  <thead>\n",
       "    <tr style=\"text-align: right;\">\n",
       "      <th></th>\n",
       "      <th>month</th>\n",
       "      <th>sales</th>\n",
       "      <th>sales_diff</th>\n",
       "    </tr>\n",
       "  </thead>\n",
       "  <tbody>\n",
       "    <tr>\n",
       "      <th>1</th>\n",
       "      <td>2013-02-01</td>\n",
       "      <td>459417</td>\n",
       "      <td>4513.0</td>\n",
       "    </tr>\n",
       "    <tr>\n",
       "      <th>2</th>\n",
       "      <td>2013-03-01</td>\n",
       "      <td>617382</td>\n",
       "      <td>157965.0</td>\n",
       "    </tr>\n",
       "    <tr>\n",
       "      <th>3</th>\n",
       "      <td>2013-04-01</td>\n",
       "      <td>682274</td>\n",
       "      <td>64892.0</td>\n",
       "    </tr>\n",
       "    <tr>\n",
       "      <th>4</th>\n",
       "      <td>2013-05-01</td>\n",
       "      <td>763242</td>\n",
       "      <td>80968.0</td>\n",
       "    </tr>\n",
       "    <tr>\n",
       "      <th>5</th>\n",
       "      <td>2013-06-01</td>\n",
       "      <td>795597</td>\n",
       "      <td>32355.0</td>\n",
       "    </tr>\n",
       "  </tbody>\n",
       "</table>\n",
       "</div>"
      ],
      "text/plain": [
       "       month   sales  sales_diff\n",
       "1 2013-02-01  459417      4513.0\n",
       "2 2013-03-01  617382    157965.0\n",
       "3 2013-04-01  682274     64892.0\n",
       "4 2013-05-01  763242     80968.0\n",
       "5 2013-06-01  795597     32355.0"
      ]
     },
     "execution_count": 15,
     "metadata": {},
     "output_type": "execute_result"
    }
   ],
   "source": [
    "monthly_sales = monthly_sales.dropna()\n",
    "monthly_sales.head()"
   ]
  },
  {
   "cell_type": "code",
   "execution_count": 16,
   "id": "29d56a11",
   "metadata": {},
   "outputs": [
    {
     "data": {
      "image/png": "[encoded data removed]",
      "text/plain": [
       "<Figure size 1500x500 with 1 Axes>"
      ]
     },
     "metadata": {},
     "output_type": "display_data"
    }
   ],
   "source": [
    "plt.figure(figsize=(15,5))\n",
    "plt.plot(monthly_sales['month'],monthly_sales['sales'])\n",
    "plt.xlabel('Date')\n",
    "plt.ylabel('Sales')\n",
    "plt.title('Monthly Customers Sales Difference')\n",
    "plt.show()"
   ]
  },
  {
   "cell_type": "markdown",
   "id": "34e4be69",
   "metadata": {},
   "source": [
    " Dropping of sales and Date"
   ]
  },
  {
   "cell_type": "code",
   "execution_count": 17,
   "id": "81ec74b8",
   "metadata": {},
   "outputs": [],
   "source": [
    "supervise_data = monthly_sales.drop(['month','sales'],axis=1)"
   ]
  },
  {
   "cell_type": "markdown",
   "id": "4d41b5f2",
   "metadata": {},
   "source": [
    "Preparing the supervised data"
   ]
  },
  {
   "cell_type": "code",
   "execution_count": 18,
   "id": "ecbee36e",
   "metadata": {},
   "outputs": [],
   "source": [
    "for i in range(1,13):\n",
    "    col_name = 'month' + str(i)\n",
    "    supervise_data[col_name] = supervise_data['sales_diff'].shift(i)\n",
    "supervise_data = supervise_data.dropna().reset_index(drop=True)"
   ]
  },
  {
   "cell_type": "code",
   "execution_count": 19,
   "id": "f643a761",
   "metadata": {},
   "outputs": [
    {
     "data": {
      "text/html": [
       "<div>\n",
       "<style scoped>\n",
       "    .dataframe tbody tr th:only-of-type {\n",
       "        vertical-align: middle;\n",
       "    }\n",
       "\n",
       "    .dataframe tbody tr th {\n",
       "        vertical-align: top;\n",
       "    }\n",
       "\n",
       "    .dataframe thead th {\n",
       "        text-align: right;\n",
       "    }\n",
       "</style>\n",
       "<table border=\"1\" class=\"dataframe\">\n",
       "  <thead>\n",
       "    <tr style=\"text-align: right;\">\n",
       "      <th></th>\n",
       "      <th>sales_diff</th>\n",
       "      <th>month1</th>\n",
       "      <th>month2</th>\n",
       "      <th>month3</th>\n",
       "      <th>month4</th>\n",
       "      <th>month5</th>\n",
       "      <th>month6</th>\n",
       "      <th>month7</th>\n",
       "      <th>month8</th>\n",
       "      <th>month9</th>\n",
       "      <th>month10</th>\n",
       "      <th>month11</th>\n",
       "      <th>month12</th>\n",
       "    </tr>\n",
       "  </thead>\n",
       "  <tbody>\n",
       "    <tr>\n",
       "      <th>0</th>\n",
       "      <td>3130.0</td>\n",
       "      <td>19380.0</td>\n",
       "      <td>-186036.0</td>\n",
       "      <td>36056.0</td>\n",
       "      <td>-33320.0</td>\n",
       "      <td>-76854.0</td>\n",
       "      <td>-89161.0</td>\n",
       "      <td>60325.0</td>\n",
       "      <td>32355.0</td>\n",
       "      <td>80968.0</td>\n",
       "      <td>64892.0</td>\n",
       "      <td>157965.0</td>\n",
       "      <td>4513.0</td>\n",
       "    </tr>\n",
       "    <tr>\n",
       "      <th>1</th>\n",
       "      <td>175184.0</td>\n",
       "      <td>3130.0</td>\n",
       "      <td>19380.0</td>\n",
       "      <td>-186036.0</td>\n",
       "      <td>36056.0</td>\n",
       "      <td>-33320.0</td>\n",
       "      <td>-76854.0</td>\n",
       "      <td>-89161.0</td>\n",
       "      <td>60325.0</td>\n",
       "      <td>32355.0</td>\n",
       "      <td>80968.0</td>\n",
       "      <td>64892.0</td>\n",
       "      <td>157965.0</td>\n",
       "    </tr>\n",
       "    <tr>\n",
       "      <th>2</th>\n",
       "      <td>84613.0</td>\n",
       "      <td>175184.0</td>\n",
       "      <td>3130.0</td>\n",
       "      <td>19380.0</td>\n",
       "      <td>-186036.0</td>\n",
       "      <td>36056.0</td>\n",
       "      <td>-33320.0</td>\n",
       "      <td>-76854.0</td>\n",
       "      <td>-89161.0</td>\n",
       "      <td>60325.0</td>\n",
       "      <td>32355.0</td>\n",
       "      <td>80968.0</td>\n",
       "      <td>64892.0</td>\n",
       "    </tr>\n",
       "    <tr>\n",
       "      <th>3</th>\n",
       "      <td>93963.0</td>\n",
       "      <td>84613.0</td>\n",
       "      <td>175184.0</td>\n",
       "      <td>3130.0</td>\n",
       "      <td>19380.0</td>\n",
       "      <td>-186036.0</td>\n",
       "      <td>36056.0</td>\n",
       "      <td>-33320.0</td>\n",
       "      <td>-76854.0</td>\n",
       "      <td>-89161.0</td>\n",
       "      <td>60325.0</td>\n",
       "      <td>32355.0</td>\n",
       "      <td>80968.0</td>\n",
       "    </tr>\n",
       "    <tr>\n",
       "      <th>4</th>\n",
       "      <td>23965.0</td>\n",
       "      <td>93963.0</td>\n",
       "      <td>84613.0</td>\n",
       "      <td>175184.0</td>\n",
       "      <td>3130.0</td>\n",
       "      <td>19380.0</td>\n",
       "      <td>-186036.0</td>\n",
       "      <td>36056.0</td>\n",
       "      <td>-33320.0</td>\n",
       "      <td>-76854.0</td>\n",
       "      <td>-89161.0</td>\n",
       "      <td>60325.0</td>\n",
       "      <td>32355.0</td>\n",
       "    </tr>\n",
       "    <tr>\n",
       "      <th>5</th>\n",
       "      <td>82168.0</td>\n",
       "      <td>23965.0</td>\n",
       "      <td>93963.0</td>\n",
       "      <td>84613.0</td>\n",
       "      <td>175184.0</td>\n",
       "      <td>3130.0</td>\n",
       "      <td>19380.0</td>\n",
       "      <td>-186036.0</td>\n",
       "      <td>36056.0</td>\n",
       "      <td>-33320.0</td>\n",
       "      <td>-76854.0</td>\n",
       "      <td>-89161.0</td>\n",
       "      <td>60325.0</td>\n",
       "    </tr>\n",
       "    <tr>\n",
       "      <th>6</th>\n",
       "      <td>-103414.0</td>\n",
       "      <td>82168.0</td>\n",
       "      <td>23965.0</td>\n",
       "      <td>93963.0</td>\n",
       "      <td>84613.0</td>\n",
       "      <td>175184.0</td>\n",
       "      <td>3130.0</td>\n",
       "      <td>19380.0</td>\n",
       "      <td>-186036.0</td>\n",
       "      <td>36056.0</td>\n",
       "      <td>-33320.0</td>\n",
       "      <td>-76854.0</td>\n",
       "      <td>-89161.0</td>\n",
       "    </tr>\n",
       "    <tr>\n",
       "      <th>7</th>\n",
       "      <td>-100472.0</td>\n",
       "      <td>-103414.0</td>\n",
       "      <td>82168.0</td>\n",
       "      <td>23965.0</td>\n",
       "      <td>93963.0</td>\n",
       "      <td>84613.0</td>\n",
       "      <td>175184.0</td>\n",
       "      <td>3130.0</td>\n",
       "      <td>19380.0</td>\n",
       "      <td>-186036.0</td>\n",
       "      <td>36056.0</td>\n",
       "      <td>-33320.0</td>\n",
       "      <td>-76854.0</td>\n",
       "    </tr>\n",
       "    <tr>\n",
       "      <th>8</th>\n",
       "      <td>-26241.0</td>\n",
       "      <td>-100472.0</td>\n",
       "      <td>-103414.0</td>\n",
       "      <td>82168.0</td>\n",
       "      <td>23965.0</td>\n",
       "      <td>93963.0</td>\n",
       "      <td>84613.0</td>\n",
       "      <td>175184.0</td>\n",
       "      <td>3130.0</td>\n",
       "      <td>19380.0</td>\n",
       "      <td>-186036.0</td>\n",
       "      <td>36056.0</td>\n",
       "      <td>-33320.0</td>\n",
       "    </tr>\n",
       "    <tr>\n",
       "      <th>9</th>\n",
       "      <td>41900.0</td>\n",
       "      <td>-26241.0</td>\n",
       "      <td>-100472.0</td>\n",
       "      <td>-103414.0</td>\n",
       "      <td>82168.0</td>\n",
       "      <td>23965.0</td>\n",
       "      <td>93963.0</td>\n",
       "      <td>84613.0</td>\n",
       "      <td>175184.0</td>\n",
       "      <td>3130.0</td>\n",
       "      <td>19380.0</td>\n",
       "      <td>-186036.0</td>\n",
       "      <td>36056.0</td>\n",
       "    </tr>\n",
       "  </tbody>\n",
       "</table>\n",
       "</div>"
      ],
      "text/plain": [
       "   sales_diff    month1    month2    month3    month4    month5    month6  \\\n",
       "0      3130.0   19380.0 -186036.0   36056.0  -33320.0  -76854.0  -89161.0   \n",
       "1    175184.0    3130.0   19380.0 -186036.0   36056.0  -33320.0  -76854.0   \n",
       "2     84613.0  175184.0    3130.0   19380.0 -186036.0   36056.0  -33320.0   \n",
       "3     93963.0   84613.0  175184.0    3130.0   19380.0 -186036.0   36056.0   \n",
       "4     23965.0   93963.0   84613.0  175184.0    3130.0   19380.0 -186036.0   \n",
       "5     82168.0   23965.0   93963.0   84613.0  175184.0    3130.0   19380.0   \n",
       "6   -103414.0   82168.0   23965.0   93963.0   84613.0  175184.0    3130.0   \n",
       "7   -100472.0 -103414.0   82168.0   23965.0   93963.0   84613.0  175184.0   \n",
       "8    -26241.0 -100472.0 -103414.0   82168.0   23965.0   93963.0   84613.0   \n",
       "9     41900.0  -26241.0 -100472.0 -103414.0   82168.0   23965.0   93963.0   \n",
       "\n",
       "     month7    month8    month9   month10   month11   month12  \n",
       "0   60325.0   32355.0   80968.0   64892.0  157965.0    4513.0  \n",
       "1  -89161.0   60325.0   32355.0   80968.0   64892.0  157965.0  \n",
       "2  -76854.0  -89161.0   60325.0   32355.0   80968.0   64892.0  \n",
       "3  -33320.0  -76854.0  -89161.0   60325.0   32355.0   80968.0  \n",
       "4   36056.0  -33320.0  -76854.0  -89161.0   60325.0   32355.0  \n",
       "5 -186036.0   36056.0  -33320.0  -76854.0  -89161.0   60325.0  \n",
       "6   19380.0 -186036.0   36056.0  -33320.0  -76854.0  -89161.0  \n",
       "7    3130.0   19380.0 -186036.0   36056.0  -33320.0  -76854.0  \n",
       "8  175184.0    3130.0   19380.0 -186036.0   36056.0  -33320.0  \n",
       "9   84613.0  175184.0    3130.0   19380.0 -186036.0   36056.0  "
      ]
     },
     "execution_count": 19,
     "metadata": {},
     "output_type": "execute_result"
    }
   ],
   "source": [
    "supervise_data.head(10)"
   ]
  },
  {
   "cell_type": "markdown",
   "id": "901d6038",
   "metadata": {},
   "source": [
    "Split the data into Train and Test"
   ]
  },
  {
   "cell_type": "code",
   "execution_count": 20,
   "id": "942b8ad7",
   "metadata": {},
   "outputs": [],
   "source": [
    "train_data = supervise_data[:-12]\n",
    "test_data = supervise_data[-12:]"
   ]
  },
  {
   "cell_type": "code",
   "execution_count": 21,
   "id": "c51460c2",
   "metadata": {},
   "outputs": [
    {
     "name": "stdout",
     "output_type": "stream",
     "text": [
      "Train Data Shape : (35, 13)\n",
      "Test Data Shape : (12, 13)\n"
     ]
    }
   ],
   "source": [
    "print(\"Train Data Shape :\",train_data.shape)\n",
    "print(\"Test Data Shape :\",test_data.shape)"
   ]
  },
  {
   "cell_type": "code",
   "execution_count": 22,
   "id": "d7362d73",
   "metadata": {},
   "outputs": [],
   "source": [
    "scaler = MinMaxScaler(feature_range=(-1,1))\n",
    "scaler.fit(train_data)\n",
    "train_data = scaler.transform(train_data)\n",
    "test_data = scaler.transform(test_data)"
   ]
  },
  {
   "cell_type": "code",
   "execution_count": 23,
   "id": "2cd6d74b",
   "metadata": {},
   "outputs": [],
   "source": [
    "X_train,y_train = train_data[:,1:],train_data[:,0:1]\n",
    "X_test,y_test = test_data[:,1:],test_data[:,0:1]"
   ]
  },
  {
   "cell_type": "code",
   "execution_count": 24,
   "id": "8d58ffe0",
   "metadata": {},
   "outputs": [],
   "source": [
    "y_train = y_train.ravel()\n",
    "y_test = y_test.ravel()"
   ]
  },
  {
   "cell_type": "code",
   "execution_count": 25,
   "id": "f1f6d891",
   "metadata": {},
   "outputs": [
    {
     "name": "stdout",
     "output_type": "stream",
     "text": [
      "X_train Shape : (35, 12)\n",
      "y_train Shape : (35,)\n",
      "X_test Shape : (12, 12)\n",
      "X_test Shape : (12,)\n"
     ]
    }
   ],
   "source": [
    "print(\"X_train Shape :\",X_train.shape)\n",
    "print(\"y_train Shape :\",y_train.shape)\n",
    "print(\"X_test Shape :\",X_test.shape)\n",
    "print(\"X_test Shape :\",y_test.shape)"
   ]
  },
  {
   "cell_type": "markdown",
   "id": "505de6a4",
   "metadata": {},
   "source": [
    "Make Predictions data frame to merge the predicted sales prices of all trained algorithms"
   ]
  },
  {
   "cell_type": "code",
   "execution_count": 26,
   "id": "38895e52",
   "metadata": {},
   "outputs": [],
   "source": [
    "sales_dates = monthly_sales['month'][-12:].reset_index(drop=True)\n",
    "predict_df = pd.DataFrame(sales_dates)"
   ]
  },
  {
   "cell_type": "code",
   "execution_count": 27,
   "id": "1a45e4f6",
   "metadata": {},
   "outputs": [
    {
     "name": "stdout",
     "output_type": "stream",
     "text": [
      "[663411, 617306, 621369, 822667, 938862, 1020686, 1064624, 1171393, 1026403, 935263, 891160, 928837, 695170]\n"
     ]
    }
   ],
   "source": [
    "actual_sales = monthly_sales['sales'][-13:].to_list()\n",
    "print(actual_sales)"
   ]
  },
  {
   "cell_type": "markdown",
   "id": "f6e52b30",
   "metadata": {},
   "source": [
    "To create the Linear Regression model and predict output"
   ]
  },
  {
   "cell_type": "code",
   "execution_count": 28,
   "id": "f1ff359d",
   "metadata": {},
   "outputs": [],
   "source": [
    "lr_model = LinearRegression()\n",
    "lr_model.fit(X_train,y_train)\n",
    "lr_predict = lr_model.predict(X_test)"
   ]
  },
  {
   "cell_type": "code",
   "execution_count": 29,
   "id": "e8ecf585",
   "metadata": {},
   "outputs": [],
   "source": [
    "lr_predict = lr_predict.reshape(-1,1)\n",
    "# This is Set Matrix and its contains input features of the test data and also the predicted output\n",
    "lr_pre_test_set = np.concatenate([lr_predict,X_test],axis=1)\n",
    "lr_pre_test_set = scaler.inverse_transform(lr_pre_test_set)"
   ]
  },
  {
   "cell_type": "code",
   "execution_count": 30,
   "id": "3e95782a",
   "metadata": {},
   "outputs": [
    {
     "data": {
      "text/html": [
       "<div>\n",
       "<style scoped>\n",
       "    .dataframe tbody tr th:only-of-type {\n",
       "        vertical-align: middle;\n",
       "    }\n",
       "\n",
       "    .dataframe tbody tr th {\n",
       "        vertical-align: top;\n",
       "    }\n",
       "\n",
       "    .dataframe thead th {\n",
       "        text-align: right;\n",
       "    }\n",
       "</style>\n",
       "<table border=\"1\" class=\"dataframe\">\n",
       "  <thead>\n",
       "    <tr style=\"text-align: right;\">\n",
       "      <th></th>\n",
       "      <th>month</th>\n",
       "      <th>Linear Predictions</th>\n",
       "    </tr>\n",
       "  </thead>\n",
       "  <tbody>\n",
       "    <tr>\n",
       "      <th>0</th>\n",
       "      <td>2017-01-01</td>\n",
       "      <td>6.479148e+05</td>\n",
       "    </tr>\n",
       "    <tr>\n",
       "      <th>1</th>\n",
       "      <td>2017-02-01</td>\n",
       "      <td>6.283374e+05</td>\n",
       "    </tr>\n",
       "    <tr>\n",
       "      <th>2</th>\n",
       "      <td>2017-03-01</td>\n",
       "      <td>8.195190e+05</td>\n",
       "    </tr>\n",
       "    <tr>\n",
       "      <th>3</th>\n",
       "      <td>2017-04-01</td>\n",
       "      <td>9.436391e+05</td>\n",
       "    </tr>\n",
       "    <tr>\n",
       "      <th>4</th>\n",
       "      <td>2017-05-01</td>\n",
       "      <td>1.033653e+06</td>\n",
       "    </tr>\n",
       "    <tr>\n",
       "      <th>5</th>\n",
       "      <td>2017-06-01</td>\n",
       "      <td>1.065286e+06</td>\n",
       "    </tr>\n",
       "    <tr>\n",
       "      <th>6</th>\n",
       "      <td>2017-07-01</td>\n",
       "      <td>1.201561e+06</td>\n",
       "    </tr>\n",
       "    <tr>\n",
       "      <th>7</th>\n",
       "      <td>2017-08-01</td>\n",
       "      <td>1.002123e+06</td>\n",
       "    </tr>\n",
       "    <tr>\n",
       "      <th>8</th>\n",
       "      <td>2017-09-01</td>\n",
       "      <td>9.415142e+05</td>\n",
       "    </tr>\n",
       "    <tr>\n",
       "      <th>9</th>\n",
       "      <td>2017-10-01</td>\n",
       "      <td>9.080646e+05</td>\n",
       "    </tr>\n",
       "    <tr>\n",
       "      <th>10</th>\n",
       "      <td>2017-11-01</td>\n",
       "      <td>9.167461e+05</td>\n",
       "    </tr>\n",
       "    <tr>\n",
       "      <th>11</th>\n",
       "      <td>2017-12-01</td>\n",
       "      <td>6.947978e+05</td>\n",
       "    </tr>\n",
       "  </tbody>\n",
       "</table>\n",
       "</div>"
      ],
      "text/plain": [
       "        month  Linear Predictions\n",
       "0  2017-01-01        6.479148e+05\n",
       "1  2017-02-01        6.283374e+05\n",
       "2  2017-03-01        8.195190e+05\n",
       "3  2017-04-01        9.436391e+05\n",
       "4  2017-05-01        1.033653e+06\n",
       "5  2017-06-01        1.065286e+06\n",
       "6  2017-07-01        1.201561e+06\n",
       "7  2017-08-01        1.002123e+06\n",
       "8  2017-09-01        9.415142e+05\n",
       "9  2017-10-01        9.080646e+05\n",
       "10 2017-11-01        9.167461e+05\n",
       "11 2017-12-01        6.947978e+05"
      ]
     },
     "execution_count": 30,
     "metadata": {},
     "output_type": "execute_result"
    }
   ],
   "source": [
    "result_list = []\n",
    "for index in range(0,len(lr_pre_test_set)):\n",
    "  result_list.append(lr_pre_test_set[index][0] + actual_sales[index])\n",
    "lr_pre_series =  pd.Series(result_list,name=\"Linear Predictions\")\n",
    "predict_df = predict_df.merge(lr_pre_series,left_index=True,right_index=True)\n",
    "predict_df"
   ]
  },
  {
   "cell_type": "markdown",
   "id": "d61c6d7f",
   "metadata": {},
   "source": [
    "Now use Metrices"
   ]
  },
  {
   "cell_type": "code",
   "execution_count": 31,
   "id": "d0d90504",
   "metadata": {},
   "outputs": [
    {
     "name": "stdout",
     "output_type": "stream",
     "text": [
      "Linear Regression Mean Square Error 16221.27238541689\n",
      "Linear Regression Mean Absolute Error 12433.184266490736\n",
      "Linear Regression R2 0.9906152516380968\n"
     ]
    }
   ],
   "source": [
    "lr_mse = np.sqrt(mean_squared_error(predict_df[\"Linear Predictions\"],monthly_sales['sales'][-12:]))\n",
    "lr_mae = mean_absolute_error(predict_df[\"Linear Predictions\"],monthly_sales['sales'][-12:])\n",
    "lr_r2 = r2_score(predict_df[\"Linear Predictions\"],monthly_sales['sales'][-12:])\n",
    "\n",
    "print(\"Linear Regression Mean Square Error\",lr_mse)\n",
    "print(\"Linear Regression Mean Absolute Error\",lr_mae)\n",
    "print(\"Linear Regression R2\",lr_r2)"
   ]
  },
  {
   "cell_type": "markdown",
   "id": "29cca863",
   "metadata": {},
   "source": [
    "Visualization of the predictions against each actual Sales"
   ]
  },
  {
   "cell_type": "code",
   "execution_count": 35,
   "id": "573ee6ff",
   "metadata": {},
   "outputs": [
    {
     "data": {
      "image/png": "[encoded data removed]",
      "text/plain": [
       "<Figure size 1500x500 with 1 Axes>"
      ]
     },
     "metadata": {},
     "output_type": "display_data"
    }
   ],
   "source": [
    "plt.figure(figsize=(15,5))\n",
    "\n",
    "# Actual Sales\n",
    "plt.plot(monthly_sales['month'],monthly_sales['sales'])\n",
    "\n",
    "# Predicted Sales\n",
    "plt.plot(predict_df['month'],predict_df['Linear Predictions'])\n",
    "\n",
    "plt.title(\"Customer sales Forecast using Linear Regression Model\")\n",
    "plt.xlabel(\"Month\")\n",
    "plt.ylabel(\"Sales\")\n",
    "plt.legend([\"Actual Sized\",\"Predicted sales\"])\n",
    "plt.show()"
   ]
  },
  {
   "cell_type": "code",
   "execution_count": null,
   "id": "e99333c7",
   "metadata": {},
   "outputs": [],
   "source": []
  }
 ],
 "metadata": {
  "kernelspec": {
   "display_name": "Python 3 (ipykernel)",
   "language": "python",
   "name": "python3"
  },
  "language_info": {
   "codemirror_mode": {
    "name": "ipython",
    "version": 3
   },
   "file_extension": ".py",
   "mimetype": "text/x-python",
   "name": "python",
   "nbconvert_exporter": "python",
   "pygments_lexer": "ipython3",
   "version": "3.9.13"
  }
 },
 "nbformat": 4,
 "nbformat_minor": 5
}
